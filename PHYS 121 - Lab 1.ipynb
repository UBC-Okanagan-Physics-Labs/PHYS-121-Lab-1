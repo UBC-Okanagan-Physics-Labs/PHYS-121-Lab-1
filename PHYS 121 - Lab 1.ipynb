{
 "cells": [
  {
   "cell_type": "markdown",
   "id": "0562ce69",
   "metadata": {},
   "source": [
    "# <div style=\"background-color:rgba(204, 229, 255, 0.5); text-align:center; vertical-align: middle; padding:40px 0; margin-top:30px\"><span style=\"color:rgba(0, 76, 153, 1);\">PHYS 121 Lab #1</span></div>\n",
    "# Oscillations of a Simple Pendulum &ndash; Week 1"
   ]
  },
  {
   "cell_type": "markdown",
   "id": "39f25a1a",
   "metadata": {},
   "source": [
    "***\n",
    "## Learning Objectives:\n",
    "* <b><span style=\"color:rgba(0, 153, 76, 1);\">Determine what *does* and *does not* affect the width of a distribution of measurements.</span></b>\n",
    "* <b><span style=\"color:rgba(0, 153, 76, 1);\">Determine the uncertainty associated with the *mean* or *average* value of a set of measurements.</span></b>\n",
    "\n",
    "In addition to the specific learning objectives above, two of the overall objectives of the PHYS 121 labs are to show that:\n",
    "* <b>meaningful physics experiments can be designed and built using simple and accessible equipment.</b>\n",
    "* <b>precision measurements lead to new insights and new physics that would otherwise remain undiscovered.</b>\n",
    "\n",
    "Over the next two weeks, you will have the opportunity to work with a simple yet effective apparatus and to refine your measurement methods to generate a relatively high-precision dataset that uncovers new insights that go beyond the material covered in first-year physics lectures.\n",
    " "
   ]
  },
  {
   "cell_type": "markdown",
   "id": "b787cde7",
   "metadata": {},
   "source": [
    "***\n",
    "## Installing Required Packages/Modules:\n",
    "The cell below installs the required packages for the PHYS 121 labs.  If 'PHYS121.Installer()' reports that some functions have been installed, it is a good idea to run the cell 'PHYS121.Installer()' a second time.  It should then report that \"All packages already installed. Please proceed\".\n",
    "\n",
    "The 'PHYS121.Installer()' command requires the file 'PHYS121.py', which you should see included in the list of files along the left-hand side of the screen."
   ]
  },
  {
   "cell_type": "code",
   "execution_count": null,
   "id": "1f5c1e4e",
   "metadata": {},
   "outputs": [],
   "source": [
    "# Import PHYS121.py and then run the installer function.\n",
    "import PHYS121\n",
    "PHYS121.Installer()"
   ]
  },
  {
   "cell_type": "markdown",
   "id": "4754b43e",
   "metadata": {},
   "source": [
    "***\n",
    "## Introduction:\n",
    "In Labs #1 and #2, you will work with the same apparatus which consists of a large protractor for measuring angles and a mass suspended from a string.  The free end of the string (i.e. the end not attached to the mass) is anchored to the origin of the protractor.  The figure below shows a schematic of the basic experimental setup.\n",
    "\n",
    "<p>\n",
    "<center>\n",
    "<img src=\"https://cmps-people.ok.ubc.ca/jbobowsk/PHYS_121_Lab/Lab1/images/pendulum_schematic.png\" alt=\"image info\" style=\"width: 35%; height: auto;\" /><br>\n",
    "<b>Fig. 1: A simple pendulum suspended from the origin of a protractor.</b></center>\n",
    "</p>\n",
    "\n",
    "A standard textbook analysis of the free-body diagram of the pendulum bob predicts that the period of oscillation $T$ is given by:\n",
    "\\begin{align}\n",
    "T = \\sqrt{\\dfrac{\\ell}{g}},\n",
    "\\label{eq:period} \\tag{1}\n",
    "\\end{align}\n",
    "where $\\ell$ is the length of the string and $g=9.81\\rm\\ m/s^2$ is the gravitational acceleration.  Notice that, according to Eq. $(1)$, the period depends on neither the mass $m$ of the pendulum bob nor the amplitude of the oscillations."
   ]
  },
  {
   "cell_type": "markdown",
   "id": "9f5a51bd",
   "metadata": {},
   "source": [
    "# <div style=\"background-color:rgba(255, 204, 255, 0.5); text-align:center; vertical-align: middle; padding:40px 0; margin-top:30px\"><span style=\"color:rgba(102, 0, 204, 1);\">Part 1 - Initial measurement of period versus amplitude (20 minutes)</span></div>\n",
    "\n",
    "In this first part of the lab, you will complete a quick investigation to determine if the pendulum's oscillation period is independent of the amplitude of oscillation as predicted by Eq. $(1)$.  If the pendulum bob is released from rest at an initial angular displacement of $+\\theta_0$, then the oscillation period is the time it takes the pendulum to swing from $+\\theta_0\\to 0\\to -\\theta_0\\to 0\\to +\\theta_0$.  Here, we're using positive angle to denote displacements to the right of vertical and negative angles for displacements to the left of vertical.\n",
    "    \n",
    "Measure the oscillation period for release angles of $\\theta_0 = 5$, $10$, $15$, $20$, $25$, $30$, $35$, $40$, and $45^\\circ$.  Don't worry about making very precise measurements, just make a single measurement of the period for each release angle.  To measure time intervals, you can use the stopwatch provided, a stopwatch on your phone, or an online stopwatch such as: https://vclock.com/stopwatch/#."
   ]
  },
  {
   "cell_type": "markdown",
   "id": "6d5a8011",
   "metadata": {},
   "source": [
    "In PHYS 121, we will use a Python package called [pandas](https://pandas.pydata.org/) to store and manipulate data. The data structures in pandas are called **dataframes**. Dataframes are a lot like spreadsheets - where spreadsheets have column headers and columns, dataframes have lists of data which are assigned labels.\n",
    "\n",
    "Pandas has a lot of functions for inputting data from text or csv (comma-separated value) files. We'll make use of these (and other pandas utilities) in future labs. For now, input your data manually in the code block below. In general, code snippets like this will be provided for your use, but you are encouraged to become familiar the syntax. "
   ]
  },
  {
   "cell_type": "code",
   "execution_count": null,
   "id": "844193b5",
   "metadata": {},
   "outputs": [],
   "source": [
    "# First, we import the package and give it a short name.\n",
    "import pandas as pd\n",
    "\n",
    "# The lines below assign a dataframe object to the variable df1. \n",
    "# The amplitude column has been filled out for you. \n",
    "# Replace the zeroes in the period column with your measurements.\n",
    "# The first entry should correspond to an amplitude of 5 degrees, the second to 10 degrees, and so on.\n",
    "df1 = pd.DataFrame({\"Amplitude\": [5,10,15,20,25,30,35,40,45],\n",
    "                   \"Period\": [0,0,0,0,0,0,0,0,0]})\n",
    "\n",
    "# Display DataFrame\n",
    "df1"
   ]
  },
  {
   "cell_type": "markdown",
   "id": "b1152cf2",
   "metadata": {},
   "source": [
    "Pandas has some built-in plotting functionality:"
   ]
  },
  {
   "cell_type": "code",
   "execution_count": null,
   "id": "4bb72261",
   "metadata": {},
   "outputs": [],
   "source": [
    "import matplotlib.pyplot as plt\n",
    "df1.plot.scatter(x = \"Amplitude\", y = \"Period\")"
   ]
  },
  {
   "cell_type": "markdown",
   "id": "ce3898ab",
   "metadata": {},
   "source": [
    "More often, however, we'll use some plotting functions developed specifically for the Physics 121 labs. The following line of code has been provided in the cell below:\n",
    "\n",
    "\n",
    "```python\n",
    "fig1 = PHYS121.Scatter(xData = amplitude, yData = v_period, xlabel = 'Amplitude', ylabel = 'Period', xUnits = 'degrees', yUnits = 'seconds')\n",
    "```\n",
    "\n",
    "This line is used to call another function contained in the file PHYS121.py that generates a formatted scatter plot of your data.  Hitting 'Shift' + 'Enter' while your cursor is in the cell below will execute the line of code and generate a scatter plot.\n",
    "\n",
    "Initially, we will provide some example lines of code to introduce the various functions that we'll use to process the data that you collect in the PHYS 121 lab.  As you become familiar with these functions, you'll be expected to independently make use of the various functions as needed.  For additional information about the 'Scatter' function, see **Appendix A** near the end of this notebook.  "
   ]
  },
  {
   "cell_type": "code",
   "execution_count": null,
   "id": "510fdd42",
   "metadata": {},
   "outputs": [],
   "source": [
    "# First, we need to call the columns of the DataFrame as lists, \n",
    "# since this is the type of data our function will accept.\n",
    "x = df1[\"Amplitude\"].tolist()\n",
    "y = df1[\"Period\"].tolist()\n",
    "\n",
    "# Now we import the PHYS121 package and plot our data.\n",
    "import PHYS121\n",
    "fig1 = PHYS121.Scatter(xData = x, \n",
    "                       yData = y, \n",
    "                       xlabel = 'Amplitude', \n",
    "                       ylabel = 'Period', \n",
    "                       xUnits = 'degrees', \n",
    "                       yUnits = 'seconds'\n",
    "                      )"
   ]
  },
  {
   "cell_type": "markdown",
   "id": "c0f95dde",
   "metadata": {},
   "source": [
    "***\n",
    "**<span style=\"color:blue\">Question 1.1:</span>**  \n",
    "\n",
    "Based on the scatter plot above, do your data support the conclusion that the pendulum's period is independent of the oscillation amplitude?  Explain your reasoning in one or two sentences. "
   ]
  },
  {
   "cell_type": "markdown",
   "id": "ba8501e7",
   "metadata": {},
   "source": [
    "***\n",
    "**<span style=\"color:blue\">Answer 1.1:</span>**\n",
    "\n",
    "[//]: # (Please do not delete this comment or anything above it.  Anything below this comment can be deleted.)  \n",
    "\n",
    "Double click this cell and enter your text here.  When done, hit 'Shift' + 'Enter' to execute the cell.  You may delete this text when entering your answer. "
   ]
  },
  {
   "cell_type": "markdown",
   "id": "044e298a",
   "metadata": {},
   "source": [
    "# <div style=\"background-color:rgba(255, 204, 255, 0.5); text-align:center; vertical-align: middle; padding:40px 0; margin-top:30px\"><span style=\"color:rgba(102, 0, 204, 1);\">Part 2 - Repeated measurement of the period at a fixed amplitude (25 minutes)</span></div>\n",
    "\n",
    "For this part of the lab, you will measure the period of oscillation at a fixed release angle of $\\theta_0 = 20^\\circ$ at least $30$ times.  Again, this should be a quick set of measurements.  Use the same technique you used in **Part 1** of the lab to measure the period of oscillation.\n",
    "\n",
    "Realistically, we didn't *need* to use a DataFrame in **Part 1**, but it's a good idea to see what the syntax looks like. For the remainder of this lab we will use a much simpler data structure called a **list**. In the code block below, create a list by writing your measurements between the square brackets with commas separating the entries.  Once again we will generate a scatter plot, but this time the x-axis will represent the trial number (i.e. trial $1$, trial $2$, ..., trial $N$).  We can produce this scatter plot by passing an empty list to 'xData' as follows:\n",
    "```python\n",
    "xData = []\n",
    "```"
   ]
  },
  {
   "cell_type": "code",
   "execution_count": null,
   "id": "9b50a047",
   "metadata": {},
   "outputs": [],
   "source": [
    "# Write your measurements separated by commas between the square brackets \n",
    "period20a = [ ]"
   ]
  },
  {
   "cell_type": "code",
   "execution_count": null,
   "id": "4f116c17",
   "metadata": {},
   "outputs": [],
   "source": [
    "fig2 = PHYS121.Scatter(xData = [], yData = period20a, ylabel = 'Period', yUnits = 'seconds')"
   ]
  },
  {
   "cell_type": "markdown",
   "id": "2974a858",
   "metadata": {},
   "source": [
    "***\n",
    "**<span style=\"color:blue\">Question 2.1:</span>**  \n",
    "\n",
    "Based on the scatter plot above, estimate the average value and uncertainty of your measurements of the period at $\\theta_0 = 20^\\circ$.  Enter your value in the cell below.  "
   ]
  },
  {
   "cell_type": "markdown",
   "id": "8bb0b576",
   "metadata": {},
   "source": [
    "***\n",
    "**<span style=\"color:blue\">Answer 2.1:</span>**"
   ]
  },
  {
   "cell_type": "code",
   "execution_count": null,
   "id": "6eeac9d0",
   "metadata": {},
   "outputs": [],
   "source": [
    "# Enter your estimate of the average and uncertainty of the period in the lines below.\n",
    "T20avg = \n",
    "ΔT20 = "
   ]
  },
  {
   "cell_type": "markdown",
   "id": "fb117f61",
   "metadata": {},
   "source": [
    "***\n",
    "**<span style=\"color:blue\">Question 2.2:</span>**  \n",
    "\n",
    "In one or two sentences, explain how you made your estimates of the average and uncertainty.  Don't worry if the explanation you give is not exactly correct.  We just want you to come up with a reasonable justification for the answer your gave.  In the next part of this lab, we will attempt to reveal the accepted way to estimate uncertainties.  "
   ]
  },
  {
   "cell_type": "markdown",
   "id": "acc48b77",
   "metadata": {},
   "source": [
    "***\n",
    "**<span style=\"color:blue\">Answer 2.2:</span>**\n",
    "\n",
    "[//]: # (Please do not delete this comment or anything above it.  Anything below this comment can be deleted.)  \n",
    "\n",
    "Double click this cell and enter your text here.  When done, hit 'Shift' + 'Enter' to execute the cell.  You may delete this text when entering your answer. "
   ]
  },
  {
   "cell_type": "markdown",
   "id": "bfee5d04",
   "metadata": {},
   "source": [
    "***\n",
    "Next, we'll use a **histogram** view the $20^\\circ$ period data that you've collected.  Refer the Pre-Lab #1 for a description of histograms.\n",
    "\n",
    "In the cell below, you will use a function called 'Statistics' to produce a histogram of measured periods and to calculate some basic statistics of your dataset (mean, standard deviation, and standard error). The 'Statistics' function is called as follows:\n",
    "```python\n",
    "import PHYS121\n",
    "counts, centres, average20a, stdDev20a, stdError20a, fig3 = PHYS121.Statistics(xData = v_period20a, xlabel = 'period', xUnits = 'seconds')\n",
    "```\n",
    "Notice that 'period20a' was defined in a previous cell, so you don't have to re-enter the numerical values.  For additional information about the 'Statistics' function, see **Appendix B** near the end of this notebook.  "
   ]
  },
  {
   "cell_type": "code",
   "execution_count": null,
   "id": "26cb7a9a",
   "metadata": {},
   "outputs": [],
   "source": [
    "counts, centres, average20a, stdDev20a, stdError20a, fig3 = PHYS121.Statistics(data = period20a, xlabel = 'period', xUnits = 'seconds')"
   ]
  },
  {
   "cell_type": "markdown",
   "id": "30efefcc",
   "metadata": {},
   "source": [
    "Hopefully the histogram you generated above replicates some of the features (roughly symmetric with a peak approximately in the centre) of the Gaussian distribution introduced in the pre-lab, even if there are some notable differences.\n",
    "\n",
    "Recall the **68-95-99.7 rule** from the pre-lab.  The rule states that $68\\%$ of the measurements should fall within one standard deviation $\\sigma$ of mean $\\mu$, $95\\%$ of the measurements should fall within $2\\sigma$ of $\\mu$, and $99.7\\%$ of measurements should fall within $3\\sigma$ of $\\mu$. \n",
    "\n",
    "*When estimating the uncertainty of a single measurement, one is trying to estimate the standard deviation that would be obtained if the measurement was repeated many times* (without actually doing the repeated measurements)."
   ]
  },
  {
   "cell_type": "markdown",
   "id": "cd85bbd9",
   "metadata": {},
   "source": [
    "***\n",
    "**<span style=\"color:blue\">Question 2.3:</span>**  \n",
    "\n",
    "Using one or two sentences, compare the estimates of the average and uncertainty that you made in **Question 2.1** to the mean and standard deviation obtained from your actual dataset when using the 'Statistics' function to generate the histogram.  "
   ]
  },
  {
   "cell_type": "markdown",
   "id": "7f1839ab",
   "metadata": {},
   "source": [
    "***\n",
    "**<span style=\"color:blue\">Answer 2.3:</span>**\n",
    "\n",
    "[//]: # (Please do not delete this comment or anything above it.  Anything below this comment can be deleted.)  \n",
    "\n",
    "Double click this cell and enter your text here.  When done, hit 'Shift' + 'Enter' to execute the cell.  You may delete this text when entering your answer. "
   ]
  },
  {
   "cell_type": "markdown",
   "id": "fafc195d",
   "metadata": {},
   "source": [
    "# <div style=\"background-color:rgba(255, 204, 255, 0.5); text-align:center; vertical-align: middle; padding:40px 0; margin-top:30px\"><span style=\"color:rgba(102, 0, 204, 1);\">Part 3 - Increasing the number of trials of an experiment (20 minutes)</span></div>\n",
    "\n",
    "For this part of the lab, you will again measure the period of oscillation at a fixed release angle of $\\theta_0 = 20^\\circ$ at least $30$ times.  Use the same technique you used in **Parts 1** and **2** of the lab to measure the period of oscillation.\n",
    "\n",
    "As in **Part 2**, simply enter your values in the square brackets below, separating each value by a comma. The second line in the code block will combine this set of measurements with the data that you already collected in **Part 2** (you should have at least 60 trials after combining the two datasets).  "
   ]
  },
  {
   "cell_type": "code",
   "execution_count": null,
   "id": "0b9d52b8",
   "metadata": {},
   "outputs": [],
   "source": [
    "# Enter your data here\n",
    "period20b = [ ]\n",
    "\n",
    "# Two lists can be concatinated (i.e. combined) using the \"+\" symbol.\n",
    "period20 = period20a + period20b\n",
    "print(period20)"
   ]
  },
  {
   "cell_type": "markdown",
   "id": "34054797",
   "metadata": {},
   "source": [
    "Once you have collected and entered your data, execute the cell below to produce a histogram of the measurements. "
   ]
  },
  {
   "cell_type": "code",
   "execution_count": null,
   "id": "258c56b0",
   "metadata": {},
   "outputs": [],
   "source": [
    "counts, centres, average20b, stdDev20b, stdError20b, fig4 = PHYS121.Statistics(data = period20, xlabel = 'period', xUnits = 'seconds')"
   ]
  },
  {
   "cell_type": "markdown",
   "id": "50ef7379",
   "metadata": {},
   "source": [
    "***\n",
    "**<span style=\"color:blue\">Question 3.1:</span>**  \n",
    "\n",
    "Compare the standard deviations obtained in **Part 2** ($\\approx 30$ trials) and **Part 3** ($\\approx 60$ trials) of the lab.  Are they very different or are they similar?  What does this tell you about how the standard deviation $\\sigma$ depends on the number of trials $N$?"
   ]
  },
  {
   "cell_type": "markdown",
   "id": "31968e7c",
   "metadata": {},
   "source": [
    "***\n",
    "**<span style=\"color:blue\">Answer 3.1:</span>**\n",
    "\n",
    "[//]: # (Please do not delete this comment or anything above it.  Anything below this comment can be deleted.)  \n",
    "\n",
    "Double click this cell and enter your text here.  When done, hit 'Shift' + 'Enter' to execute the cell.  You may delete this text when entering your answer. "
   ]
  },
  {
   "cell_type": "markdown",
   "id": "46406d1b",
   "metadata": {},
   "source": [
    "***\n",
    "**<span style=\"color:blue\">Question 3.2:</span>**  \n",
    "\n",
    "Compare the histograms obtained in **Part 2** ($\\approx 30$ trials) and **Part 3** ($\\approx 60$ trials) of the lab.  Which of the histograms allows you to better determine the position of the peak or mean?"
   ]
  },
  {
   "cell_type": "markdown",
   "id": "84ec4a64",
   "metadata": {},
   "source": [
    "***\n",
    "**<span style=\"color:blue\">Answer 3.2:</span>**\n",
    "\n",
    "[//]: # (Please do not delete this comment or anything above it.  Anything below this comment can be deleted.)  \n",
    "\n",
    "Double click this cell and enter your text here.  When done, hit 'Shift' + 'Enter' to execute the cell.  You may delete this text when entering your answer. "
   ]
  },
  {
   "cell_type": "markdown",
   "id": "0d889e4b",
   "metadata": {},
   "source": [
    "***\n",
    "From **Parts 1** and **2** of the lab, you have hopefully seen that the standard deviation $\\sigma$ characterizes the width of a Gaussian distribution and that its value is independent of the number of trials $N$.  We have also seen that the standard deviation $\\sigma$ is used to estimate the uncertainty of any single trial of an experiment.  The physical interpretation is that any single measurement has a $68\\%$ chance of falling within one standard deviation of the mean $\\mu$.  In other words, each measurement has a $68\\%$ chance of falling between $\\mu-\\sigma$ and $\\mu+\\sigma$.\n",
    "\n",
    "Although $\\sigma$ is independent of $N$, our ability to locate the peak or mean value of a distribution of measurements improves as $N$ increases.  This is because, as $N$ is increased, the distribution of measurements better approximates an ideal Gaussian distribution with a smooth peak and symmetric tails.  You've observed this fact using simulated data in the pre-lab assignment and now experimentally by comparing two different sets of data with different numbers of trials.  \n",
    "\n",
    "The correct way to estimate the uncertainty in the mean or average of a set of data is to use the so-called **standard error** which we will denote as $\\sigma_\\mu$.  The standard error is calculated by dividing the standard deviation $\\sigma$ by the square root of the number of trials:\n",
    "\\begin{align}\n",
    "\\sigma_\\mu = \\dfrac{\\sigma}{\\sqrt{N}}.\n",
    "\\label{eq:stderror} \\tag{2}\n",
    "\\end{align}\n",
    "Understanding where this expression comes from requires a proper treatment of the propagation of errors which is beyond the scope of PHYS 121.  However, if you choose to pursue a physics degree, we will revisit error propagation and standard error in the Modern Physics Laboratory course PHYS 232."
   ]
  },
  {
   "cell_type": "markdown",
   "id": "f87eaaaa",
   "metadata": {},
   "source": [
    "***\n",
    "**<span style=\"color:blue\">Question 3.3:</span>**  \n",
    "\n",
    "The code cell below is used to calculate the ratio of the $\\sigma_\\mu$ values from **Parts 2** and **3**.  In the cell labelled **Answer 3.3** that follows, briefly comment on the value of this ratio.  Given that the dataset from **Part 3** was approximately twice as long as the dataset from **Part 2**, did the ratio produce the expected result?"
   ]
  },
  {
   "cell_type": "code",
   "execution_count": null,
   "id": "2dcd1c48",
   "metadata": {},
   "outputs": [],
   "source": [
    "# Calculate the ratio of standard errors.  \n",
    "# Comments are preceeded by a number sign and are not considered lines of code.\n",
    "# With your cursor somewhere in this cell, hit 'Shift' + 'Enter' to execute the (simple) line of code below.\n",
    "stdError20a/stdError20b"
   ]
  },
  {
   "cell_type": "markdown",
   "id": "db14594a",
   "metadata": {},
   "source": [
    "***\n",
    "**<span style=\"color:blue\">Answer 3.3:</span>**\n",
    "\n",
    "[//]: # (Please do not delete this comment or anything above it.  Anything below this comment can be deleted.)  \n",
    "\n",
    "Double click this cell and enter your text here.  When done, hit 'Shift' + 'Enter' to execute the cell.  You may delete this text when entering your answer. "
   ]
  },
  {
   "cell_type": "markdown",
   "id": "09e4a551",
   "metadata": {},
   "source": [
    "# <div style=\"background-color:rgba(255, 204, 255, 0.5); text-align:center; vertical-align: middle; padding:40px 0; margin-top:30px\"><span style=\"color:rgba(102, 0, 204, 1);\">Part 4 - Reducing standard deviation/increasing precision (60 minutes)</span></div>\n",
    "\n",
    "So far, we have seen that increasing the number of trials of an experiment reduces the standard error $\\sigma_\\mu$ but leaves the standard deviation $\\sigma$ unchanged.  One way to improve the precision of an experimental result to run many trials $N$ of a measurement and then report the final result as the mean plus or minus the standard error:\n",
    "\\begin{align}\n",
    "\\mathrm{final~result:~}\\mu\\pm\\sigma_\\mu =\\mu\\pm\\frac{\\sigma}{\\sqrt{N}}.\n",
    "\\label{eq:final} \\tag{3}\n",
    "\\end{align}\n",
    "\n",
    "What if we wanted to reduce $\\sigma$ (i.e. narrow the distribution of measurements)?  How can this be done?  The width of a distribution is determined by the measurement technique.  The only way to reduce the standard deviation is to improve the way in which the data is collected.  This could include:\n",
    " * Using a better apparatus capable of more precise measurements\n",
    " * Use the same apparatus, but develop a better data-collection strategy\n",
    " \n",
    "In this part of the lab, you will adopt the second approach and attempt to develop a better data-collection method to improve the resolution of your measurements. The improved data-collection technique that you develop will be used next week to, hopefully, allow you to uncover some new physics that goes beyond what was discussed in lectures. "
   ]
  },
  {
   "cell_type": "markdown",
   "id": "94a37932",
   "metadata": {},
   "source": [
    "***\n",
    "**<span style=\"color:blue\">Question 4.1:</span>**  \n",
    "\n",
    "With your partner and some of the neighbouring groups, develop a strategy for reducing the standard deviation of your measurements.  Your strategy should not involve any changes to the main apparatus (shown schematically in Fig. 1).  In one or two sentences, describe the approach that you will attempt.  There are several ways that the data-collection method can be improved &ndash; there's no single correct answer."
   ]
  },
  {
   "cell_type": "markdown",
   "id": "e0d58a94",
   "metadata": {},
   "source": [
    "***\n",
    "**<span style=\"color:blue\">Answer 4.1:</span>**\n",
    "\n",
    "[//]: # (Please do not delete this comment or anything above it.  Anything below this comment can be deleted.)  \n",
    "\n",
    "Double click this cell and enter your text here.  When done, hit 'Shift' + 'Enter' to execute the cell.  You may delete this text when entering your answer. "
   ]
  },
  {
   "cell_type": "markdown",
   "id": "4e230454",
   "metadata": {},
   "source": [
    "***\n",
    "Try to implement your chosen strategy.  If you find that your first idea is not working, revise your strategy and start again.  The process of iteration is very important in experimental physics.  It is often the case that an experiment is revised and repeated many times before arriving at a satisfactory final result.  Each revision or iteration attempts to implement an improvement to either the experimental apparatus, the data collection technique, or the data analysis methods.\n",
    "\n",
    "If you do make changes to your strategy, go back to the answer box for **<span style=\"color:blue\">Question 4.1:</span>** and add a sentence or two explaining the change in strategy and why it was needed.  Do **not** delete the original text that you entered.  *Trying, failing, revising* is an essential part of any experimental science.  Getting a good final result is important, but getting a good result on the first attempt is of no great significance and rarely happens. \n",
    "\n",
    "Once you've established a good data-collection procedure, collect a set of at least $30$ measurements for the period of the pendulum when the initial release angle is $\\theta_0 = 20^\\circ$.  Enter the data into the code cell below and use the 'Statistics' function to plot a histogram of the data and determine the mean, standard deviation, and standard error.  This time, we have not provided the code to call the 'Statistics' function &ndash; you'll need to enter it yourself. "
   ]
  },
  {
   "cell_type": "code",
   "execution_count": null,
   "id": "325398cf",
   "metadata": {},
   "outputs": [],
   "source": [
    "# Enter your data \n",
    "period20c = [ ]"
   ]
  },
  {
   "cell_type": "code",
   "execution_count": null,
   "id": "5bea42d1",
   "metadata": {},
   "outputs": [],
   "source": [
    "# Call the 'Statistics' function here."
   ]
  },
  {
   "cell_type": "markdown",
   "id": "378aaa55",
   "metadata": {},
   "source": [
    "***\n",
    "**<span style=\"color:blue\">Question 4.2:</span>**  \n",
    "\n",
    "Compare and comment the standard deviations from **Parts 2** and **3** to the standard deviation obtained in **Part 4**.  Did you get the outcome that you expected for **Part 4**?  "
   ]
  },
  {
   "cell_type": "markdown",
   "id": "3dd10ba5",
   "metadata": {},
   "source": [
    "***\n",
    "**<span style=\"color:blue\">Answer 4.2:</span>**\n",
    "\n",
    "[//]: # (Please do not delete this comment or anything above it.  Anything below this comment can be deleted.)  \n",
    "\n",
    "Double click this cell and enter your text here.  When done, hit 'Shift' + 'Enter' to execute the cell.  You may delete this text when entering your answer. "
   ]
  },
  {
   "cell_type": "markdown",
   "id": "3be24b1c",
   "metadata": {},
   "source": [
    "# <div style=\"background-color:rgba(255, 204, 255, 0.5); text-align:center; vertical-align: middle; padding:40px 0; margin-top:30px\"><span style=\"color:rgba(102, 0, 204, 1);\">Part 5 - Reflection and statement of contributions (25 minutes)</span></div>"
   ]
  },
  {
   "cell_type": "markdown",
   "id": "26dd87f6",
   "metadata": {},
   "source": [
    "Questions 5.1(a) and 5.1(b) are used to reflect on the two learning objectives stated at beginning of the notebook. \n",
    "***\n",
    "**<span style=\"color:blue\">Question 5.1(a):</span>**  \n",
    "\n",
    "In a few short sentences, describe what *does* and *does not* affect the width of a distribution of measurements."
   ]
  },
  {
   "cell_type": "markdown",
   "id": "6504ba8a",
   "metadata": {},
   "source": [
    "***\n",
    "**<span style=\"color:blue\">Answer 5.1(a):</span>**\n",
    "\n",
    "[//]: # (Please do not delete this comment or anything above it.  Anything below this comment can be deleted.)  \n",
    "\n",
    "Double click this cell and enter your text here.  When done, hit 'Shift' + 'Enter' to execute the cell.  You may delete this text when entering your answer. "
   ]
  },
  {
   "cell_type": "markdown",
   "id": "a9768610",
   "metadata": {},
   "source": [
    "***\n",
    "**<span style=\"color:blue\">Question 5.1(b):</span>**  \n",
    "\n",
    "Assume that a quantity has been measured $N$ times using the same experimental method each time.  In a few short sentences, describe how the uncertainty associated with the *mean* or *average* value of the set of measurements is determined."
   ]
  },
  {
   "cell_type": "markdown",
   "id": "21445aa8",
   "metadata": {},
   "source": [
    "***\n",
    "**<span style=\"color:blue\">Answer 5.1(b):</span>**\n",
    "\n",
    "[//]: # (Please do not delete this comment or anything above it.  Anything below this comment can be deleted.)  \n",
    "\n",
    "Double click this cell and enter your text here.  When done, hit 'Shift' + 'Enter' to execute the cell.  You may delete this text when entering your answer. "
   ]
  },
  {
   "cell_type": "markdown",
   "id": "59c4b344",
   "metadata": {},
   "source": [
    "***\n",
    "Below, you will briefly summarize the contributions that you and your partner made when completely this lab.  Please ensure that both partners have a chance to engage in all types of lab activities (developing the experimental methods/data collection strategies, hands-on interaction with the apparatus/data collection, and data processing/analysis in the Jupyter notebook).  Note that statements of contributions are common in science.  The figure below shows one example taken from a 2021 paper published in the journal *Nature Physics*.\n",
    "\n",
    "<p>\n",
    "<center>\n",
    "<img src=\"https://cmps-people.ok.ubc.ca/jbobowsk/PHYS_121_Lab/Lab1/images/contributions.jpg\" alt=\"image info\" style=\"width: 60%; height: auto;\" /><br>\n",
    "<b>Fig. 2: A sample statement of author contributions from a recent journal article.</b></center>\n",
    "</p>\n"
   ]
  },
  {
   "cell_type": "markdown",
   "id": "6e001118",
   "metadata": {},
   "source": [
    "***\n",
    "**<span style=\"color:blue\">Question 5.2(a):</span>**  \n",
    "\n",
    "Answer this question only if you worked with a partner to complete this lab.\n",
    "\n",
    "In two or three sentences describe the specific contributions of **Partner A** to this lab.  For example, worked with the experimental apparatus to collect data for Part 1 of the lab, entered and processed the data in the Jupyter notebook for Part 2 of the lab, ...  "
   ]
  },
  {
   "cell_type": "markdown",
   "id": "70517987",
   "metadata": {},
   "source": [
    "***\n",
    "**<span style=\"color:blue\">Answer 5.2(a):</span>**\n",
    "\n",
    "[//]: # (Please do not delete this comment or anything above it.  Anything below this comment can be deleted.)  \n",
    "\n",
    "Double click this cell and enter your text here.  Please start be entering the name and student number of **Partner A**.  When done, hit 'Shift' + 'Enter' to execute the cell.  You may delete this text when entering your answer. "
   ]
  },
  {
   "cell_type": "markdown",
   "id": "fecb95ee",
   "metadata": {},
   "source": [
    "***\n",
    "**<span style=\"color:blue\">Question 5.2(b):</span>**  \n",
    "\n",
    "Answer this question only if you worked with a partner to complete this lab.\n",
    "\n",
    "In two or three sentences describe the specific contributions of **Partner B** to this lab.  "
   ]
  },
  {
   "cell_type": "markdown",
   "id": "4e68b62f",
   "metadata": {},
   "source": [
    "***\n",
    "**<span style=\"color:blue\">Answer 5.2(b):</span>**\n",
    "\n",
    "[//]: # (Please do not delete this comment or anything above it.  Anything below this comment can be deleted.)  \n",
    "\n",
    "Double click this cell and enter your text here.  Please start be entering the name and student number of **Partner B**.  When done, hit 'Shift' + 'Enter' to execute the cell.  You may delete this text when entering your answer. "
   ]
  },
  {
   "cell_type": "markdown",
   "id": "80c2c586",
   "metadata": {},
   "source": [
    "***\n",
    "**<span style=\"color:blue\">Question 5.3:</span>**  \n",
    "\n",
    "We welcome your feedback on the PHYS 121 labs!  Please feel free to include any comments you have about this lab in the cell below.  Your comments will be taken into consideration when revising/improving the PHYS 121 labs.  You can suggest improvements, point out anything that was unclear, comment on the strengths and weaknesses of the lab, ...\n",
    "\n",
    "This question is optional and will have no impact on your lab grade."
   ]
  },
  {
   "cell_type": "markdown",
   "id": "b8d518de",
   "metadata": {},
   "source": [
    "***\n",
    "**<span style=\"color:blue\">Answer 5.3:</span>**\n",
    "\n",
    "[//]: # (Please do not delete this comment or anything above it.  Anything below this comment can be deleted.)  \n",
    "\n",
    "Double click this cell and enter your text here.  When done, hit 'Shift' + 'Enter' to execute the cell.  You may delete this text when entering your answer. "
   ]
  },
  {
   "cell_type": "markdown",
   "id": "3e270ee2",
   "metadata": {},
   "source": [
    "# <div style=\"background-color:rgba(255, 204, 255, 0.5); text-align:center; vertical-align: middle; padding:40px 0; margin-top:30px\"><span style=\"color:rgba(102, 0, 204, 1);\">Part 6 - Playground (optional)</span></div>\n",
    "\n",
    "Feel free to add as many cells as you like below and use them as a playground for further independent investigations.  These cells won't be graded, so feel free to use them in any way that you like.  \n",
    "\n",
    "You could:\n",
    "- try different methods to measure the period and see how they change the shape of the resulting distribution\n",
    "- try collecting a set of data with a large number of trials and see how well the resulting distribution approximates an ideal Gaussian distribution.\n",
    "-..."
   ]
  },
  {
   "cell_type": "code",
   "execution_count": null,
   "id": "6bf1dc12",
   "metadata": {},
   "outputs": [],
   "source": [
    "# Here's an empty code cell that you can use.  "
   ]
  },
  {
   "cell_type": "code",
   "execution_count": null,
   "id": "c4a47a58",
   "metadata": {},
   "outputs": [],
   "source": [
    "# Here's another empty code cell that you can use."
   ]
  },
  {
   "cell_type": "code",
   "execution_count": null,
   "id": "ffc4ad8d",
   "metadata": {},
   "outputs": [],
   "source": [
    "# Here's yet another empty code cell that you can use.  \n",
    "# If you need more, you can add cells using the '+' icon in the menu bar at to the top of the screen."
   ]
  },
  {
   "cell_type": "markdown",
   "id": "ec3ed8fa",
   "metadata": {},
   "source": [
    "### <div style=\"background-color:rgba(255, 255, 102, 0.5); text-align:left; padding:20px 0; margin-top:20px\">$\\quad$Appendix A &ndash; The Scatter Function...</div>\n",
    "\n",
    "The function for generating scatter plots is called as follows:\n",
    "```python\n",
    "Scatter(xData, yData, yErrors = [], xlabel = 'x-axis', ylabel = 'y-axis', xUnits = '', yUnits = '', fill = False, show = True)\n",
    "```\n",
    "The 'xData' and 'yData' inputs are required, all other arguments are optional with default values set.  The function returns the a single output (the formatted plot):\n",
    "```python\n",
    "fig\n",
    "```\n",
    "\n",
    "The function will do a simple scatter plot if no 'yError' are included.  It will included error bars if 'yErrors' are passed to the function.  The 'fill' and 'show' arguments should generally be false.  \n",
    "\n",
    "If the 'xData' list is empty, as in:\n",
    "```python\n",
    "xData = []\n",
    "```\n",
    "then the x-axis will be the trial number.  For example, is 'xData' is empty and 'yData' has 10 elements, the x-axis will span 1 to 10.\n",
    "\n",
    "### Scatter Example Implmentation\n",
    "The code block below shows an implementation of 'Scatter'.\n",
    "```python\n",
    "import PHYS121\n",
    "theta = [10, 20, 30] # degrees\n",
    "T = [2.02, 1.95, 2.13] # s\n",
    "errT = [0.02, 0.02, 0.03] # s\n",
    "fig = PHYS121.Scatter(theta, T, errT, 'initial angle' , 'period', 'degrees', 's')\n",
    "```\n",
    "\n",
    "If you're interested in generating your own plots with customized formatting, see the following Python-based plotting tutorial: https://cmps-people.ok.ubc.ca/jbobowsk/Python/html/Jupyter%20Basic%20Plots.html.\n",
    "***"
   ]
  },
  {
   "cell_type": "markdown",
   "id": "b6edc3a6",
   "metadata": {},
   "source": [
    "### <div style=\"background-color:rgba(255, 255, 102, 0.5); text-align:left; padding:20px 0; margin-top:20px\">$\\quad$Appendix B &ndash; The Statistics Function...</div>\n",
    "\n",
    "The statistics function is called as follows:\n",
    "```python\n",
    "Statistics(data, nbins = 10, xlabel = 'x-axis', xUnits = '', normalized = False)\n",
    "```\n",
    "The data input is required, all other arguments are optional with default values set.  The function returns the following outputs:\n",
    "```python\n",
    "counts, centres, average, stdDev, stdError, fig\n",
    "```\n",
    "The first two outputs are lists, the next three are numerical values, and 'fig' is the formatted plot. The counts list gives the number of counts in each bin of the histogram and the centres list gives the position of the centre of each bin.\n",
    "\n",
    "The function calculates and reports the mean, standard deviation, and standard error of the provided data.  It also plots a histogram of the data.  \n",
    "\n",
    "### Statistics Example Implmentation\n",
    "The code block below shows an implementation of 'Statistics'.\n",
    "```python\n",
    "import PHYS121\n",
    "theta20a = [2.02, 1.93, 1.92, 1.96, 2.03, 2.03, 1.96, 2.03, 2.06, 2, 2.03, 2.12, 2.07, 1.99, 1.99, 1.95, 2.03, 2.12, 2.03, 2.09, 2.03, 2.03, 2.01, 2.04, 2.03, 2.04, 1.99, 1.99, 1.97, 1.98]\n",
    "cnts, ctrs, mean, stdDev, stdError, fig20a = PHYS121.Statistics(theta20a, 12, 'Period', 's', True);\n",
    "```\n",
    "\n",
    "If you're interested in generating your own histograms with customized formatting, see the following Python-based tutorial: https://cmps-people.ok.ubc.ca/jbobowsk/Python/html/Jupyter%20Histogram.html.\n",
    "***"
   ]
  },
  {
   "cell_type": "markdown",
   "id": "38172bec",
   "metadata": {},
   "source": [
    "Last update: December 15, 2022"
   ]
  }
 ],
 "metadata": {
  "kernelspec": {
   "display_name": "Python 3 (ipykernel)",
   "language": "python",
   "name": "python3"
  },
  "language_info": {
   "codemirror_mode": {
    "name": "ipython",
    "version": 3
   },
   "file_extension": ".py",
   "mimetype": "text/x-python",
   "name": "python",
   "nbconvert_exporter": "python",
   "pygments_lexer": "ipython3",
   "version": "3.9.15"
  },
  "vscode": {
   "interpreter": {
    "hash": "2f6274b6a3e6b44619c02e990c9df7d81f405226d293e5b2b5f918107d72a0a6"
   }
  }
 },
 "nbformat": 4,
 "nbformat_minor": 5
}
